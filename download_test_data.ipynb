{
 "cells": [
  {
   "cell_type": "code",
   "execution_count": 1,
   "metadata": {},
   "outputs": [],
   "source": [
    "import sagemaker\n",
    "import boto3\n",
    "import glob\n",
    "import os\n",
    "import shutil\n",
    "import numpy as np\n",
    "from botocore.exceptions import ClientError\n",
    "from gluoncv.data import VOCDetection\n",
    "from bs4 import BeautifulSoup"
   ]
  },
  {
   "cell_type": "markdown",
   "metadata": {},
   "source": [
    "Define all the S3 resources and builds a dummy nested directory structure to satisfy the Gluon VOC dataloader requirements. This downloads data from Ben's S3 bucket."
   ]
  },
  {
   "cell_type": "code",
   "execution_count": 2,
   "metadata": {},
   "outputs": [
    {
     "name": "stdout",
     "output_type": "stream",
     "text": [
      "205 files in dir ML_data/OP19/starboard/xml\n"
     ]
    }
   ],
   "source": [
    "\"\"\"\n",
    "# get the xml files for conversion\n",
    "# session and role\n",
    "sagemaker_session = sagemaker.Session()\n",
    "role = sagemaker.get_execution_role()\n",
    "s3 = boto3.resource('s3')\n",
    "\n",
    "# the bucket name and roots for images, xml files\n",
    "bucket = s3.Bucket('orange-roughy')\n",
    "xml_ptf = 'ML_data/OP19/starboard/xml/'\n",
    "img_ptf = 'ML_data/OP19/starboard/images/'\n",
    "\n",
    "# save the file in the specified bucket to a list\n",
    "obj_list = []\n",
    "for obj in bucket.objects.filter(Delimiter='/', Prefix=xml_ptf):\n",
    "  obj_list.append(obj.key)\n",
    "\n",
    "print(len(obj_list), 'files in dir', os.path.split(xml_ptf)[0])\n",
    "\n",
    "\n",
    "# path for the dummy file structure to satisfy Gluon format requirements\n",
    "dummy = os.path.join(os.getcwd(), 'test-imgs', 'VOC2018')\n",
    "\n",
    "# remove images and annotations from previous runs\n",
    "if os.listdir(os.path.join(dummy, 'Annotations')):\n",
    "    shutil.rmtree(os.path.join(dummy, 'Annotations'))\n",
    "    os.mkdir(os.path.join(dummy, 'Annotations'))\n",
    "        \n",
    "if os.listdir(os.path.join(dummy, 'JPEGImages')):\n",
    "    shutil.rmtree(os.path.join(dummy, 'JPEGImages'))\n",
    "    os.mkdir(os.path.join(dummy, 'JPEGImages'))\n",
    "        \n",
    "if os.path.exists(dummy+'/ImageSets/Main/train.txt'):\n",
    "    os.remove(dummy+'/ImageSets/Main/train.txt')\n",
    "\n",
    "img_ids = []\n",
    "# save images to a temporary local directory\n",
    "for obj in obj_list:\n",
    "    tmp_base = os.path.splitext(os.path.basename(obj))[0]\n",
    "    tmp = tmp_base.split('.')[0]+'-'+tmp_base.split('.')[1]\n",
    "    xml_path = os.path.basename(obj)\n",
    "    img_path = os.path.splitext(xml_path)[0]+'.JPG'\n",
    "    #img_ids.append(os.path.splitext(xml_path)[0])\n",
    "    \n",
    "    # download image\n",
    "    try:\n",
    "        img_remote = os.path.join(img_ptf, img_path)\n",
    "        img_local = os.path.join(dummy, 'JPEGImages', tmp+'.jpg')\n",
    "        bucket.download_file(img_remote, img_local)\n",
    "    except ClientError:\n",
    "        continue\n",
    "    \n",
    "    # download xml\n",
    "    xml_local = os.path.join(dummy, 'Annotations', tmp+'.xml')\n",
    "    bucket.download_file(obj, xml_local)\n",
    "    \n",
    "    # add to the image list\n",
    "    img_ids.append(tmp)\n",
    "    \n",
    "with open(dummy+'/ImageSets/Main/train.txt', 'w') as ff:\n",
    "    for line in img_ids:\n",
    "        ff.write(line +'\\n')\n",
    "    ff.close\n",
    "\"\"\""
   ]
  },
  {
   "cell_type": "markdown",
   "metadata": {},
   "source": [
    "This downloads data from my S3 bucket with DCP preprocessing from matlab"
   ]
  },
  {
   "cell_type": "code",
   "execution_count": 6,
   "metadata": {},
   "outputs": [
    {
     "name": "stdout",
     "output_type": "stream",
     "text": [
      "205 files in dir OP19/port/xml\n"
     ]
    }
   ],
   "source": [
    "# get the xml files for conversion\n",
    "# session and role\n",
    "sagemaker_session = sagemaker.Session()\n",
    "role = sagemaker.get_execution_role()\n",
    "s3 = boto3.resource('s3')\n",
    "\n",
    "# what to download\n",
    "rn = 'OP19'\n",
    "side = 'port'\n",
    "\n",
    "# where to put it\n",
    "fold = 'VOCport'\n",
    "\n",
    "# the bucket name and roots for images, xml files\n",
    "bucket = s3.Bucket('csiro-aos-processed-imgs')\n",
    "xml_ptf = f'{rn}/{side}/xml/'\n",
    "img_ptf = f'{rn}/{side}/dcp_images/'\n",
    "\n",
    "# save the file in the specified bucket to a list\n",
    "obj_list = []\n",
    "for obj in bucket.objects.filter(Delimiter='/', Prefix=xml_ptf):\n",
    "  obj_list.append(obj.key)\n",
    "\n",
    "print(len(obj_list), 'files in dir', os.path.split(xml_ptf)[0])\n",
    "\n",
    "# path for the dummy file structure to satisfy Gluon format requirements\n",
    "#dummy = os.path.join(os.getcwd(), 'test-imgs', f'{run}')  # use this for test data\n",
    "dummy = os.path.join(os.getcwd(), f'{fold}', f'{rn}')\n",
    "\n",
    "if not os.path.exists(dummy):\n",
    "    os.mkdir(dummy)\n",
    "\n",
    "# remove images and annotations from previous runs\n",
    "try:\n",
    "    if os.listdir(os.path.join(dummy, 'Annotations')):\n",
    "        shutil.rmtree(os.path.join(dummy, 'Annotations'))\n",
    "        os.mkdir(os.path.join(dummy, 'Annotations'))\n",
    "except FileNotFoundError:\n",
    "    os.mkdir(os.path.join(dummy, 'Annotations'))\n",
    "\n",
    "try:\n",
    "    if os.listdir(os.path.join(dummy, 'JPEGImages')):\n",
    "        shutil.rmtree(os.path.join(dummy, 'JPEGImages'))\n",
    "        os.mkdir(os.path.join(dummy, 'JPEGImages'))\n",
    "except FileNotFoundError:\n",
    "    os.mkdir(os.path.join(dummy, 'JPEGImages'))    \n",
    "        \n",
    "if os.path.exists(dummy+'/ImageSets/Main/train.txt'):\n",
    "    os.remove(dummy+'/ImageSets/Main/train.txt')\n",
    "\n",
    "img_ids = []\n",
    "# save images to a temporary local directory\n",
    "for obj in obj_list:\n",
    "    tmp_base = os.path.splitext(os.path.basename(obj))[0]\n",
    "    tmp = tmp_base.split('.')[0]+'-'+tmp_base.split('.')[1]\n",
    "    xml_path = os.path.basename(obj)\n",
    "    img_path = os.path.splitext(xml_path)[0]+'.jpg'\n",
    "    #img_ids.append(os.path.splitext(xml_path)[0])\n",
    "    \n",
    "    # download image\n",
    "    try:\n",
    "        img_remote = os.path.join(img_ptf, img_path)\n",
    "        img_local = os.path.join(dummy, 'JPEGImages', tmp+'.jpg')\n",
    "        bucket.download_file(img_remote, img_local)\n",
    "    except ClientError:\n",
    "        continue\n",
    "    \n",
    "    # download xml\n",
    "    xml_local = os.path.join(dummy, 'Annotations', tmp+'.xml')\n",
    "    bucket.download_file(obj, xml_local)\n",
    "    \n",
    "    # add to the image list\n",
    "    img_ids.append(tmp)\n",
    "\n",
    "try:\n",
    "    with open(dummy+'/ImageSets/Main/train.txt', 'w') as ff:\n",
    "        for line in img_ids:\n",
    "            ff.write(line +'\\n')\n",
    "        ff.close\n",
    "except FileNotFoundError:\n",
    "    os.mkdir(dummy+'/ImageSets')\n",
    "    os.mkdir(dummy+'/ImageSets/Main')\n",
    "    with open(dummy+'/ImageSets/Main/train.txt', 'w') as ff:\n",
    "        for line in img_ids:\n",
    "            ff.write(line +'\\n')\n",
    "        ff.close\n"
   ]
  },
  {
   "cell_type": "markdown",
   "metadata": {},
   "source": [
    "Split the training list into trainval if needed. And yes it is needed"
   ]
  },
  {
   "cell_type": "code",
   "execution_count": 7,
   "metadata": {},
   "outputs": [
    {
     "name": "stdout",
     "output_type": "stream",
     "text": [
      "164\n",
      "41\n"
     ]
    }
   ],
   "source": [
    "#rn = 'OP16'\n",
    "dummy = os.path.join(os.getcwd(), f'{fold}', f'{rn}')\n",
    "\n",
    "# get the list\n",
    "with open(dummy+'/ImageSets/Main/train.txt', 'r') as ff:\n",
    "    temp = list(ff)\n",
    "    ff.close()\n",
    "    \n",
    "np.random.shuffle(temp)\n",
    "train = temp[0:int(np.floor(0.8*len(temp)))]\n",
    "val = temp[int(np.floor(0.8*len(temp)))::]\n",
    "\n",
    "print(len(train))\n",
    "print(len(val))\n",
    "\n",
    "os.remove(dummy+'/ImageSets/Main/train.txt')\n",
    "\n",
    "with open(dummy+'/ImageSets/Main/train.txt', 'w') as ff:\n",
    "    for line in train:\n",
    "        ff.write(line)\n",
    "with open(dummy+'/ImageSets/Main/val.txt', 'w') as ff:\n",
    "    for line in val:\n",
    "        ff.write(line)"
   ]
  },
  {
   "cell_type": "code",
   "execution_count": null,
   "metadata": {},
   "outputs": [],
   "source": []
  }
 ],
 "metadata": {
  "kernelspec": {
   "display_name": "conda_mxnet_p36",
   "language": "python",
   "name": "conda_mxnet_p36"
  },
  "language_info": {
   "codemirror_mode": {
    "name": "ipython",
    "version": 3
   },
   "file_extension": ".py",
   "mimetype": "text/x-python",
   "name": "python",
   "nbconvert_exporter": "python",
   "pygments_lexer": "ipython3",
   "version": "3.6.10"
  }
 },
 "nbformat": 4,
 "nbformat_minor": 4
}
