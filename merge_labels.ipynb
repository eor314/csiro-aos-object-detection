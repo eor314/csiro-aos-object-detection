{
 "cells": [
  {
   "cell_type": "code",
   "execution_count": 50,
   "metadata": {},
   "outputs": [],
   "source": [
    "from bs4 import BeautifulSoup\n",
    "import glob\n",
    "import os\n",
    "import shutil"
   ]
  },
  {
   "cell_type": "code",
   "execution_count": 9,
   "metadata": {},
   "outputs": [],
   "source": [
    "def consildate_labels(bs_xml, ptf, mergedic, dellist):\n",
    "    \"\"\"\n",
    "    iterate over all the xml files in the annotations directory, consolidate, and copy\n",
    "    :param bs_xml: list of xml annotation files\n",
    "    :param ptf: path to output directory (where new files are copied)\n",
    "    :param mergelist: dictionary of what to merge (mergedlabel: ['list', 'of', 'merge'])\n",
    "    :param dellist: list of classes to delete\n",
    "    \"\"\"\n",
    "    for xml in bs_xml:\n",
    "\n",
    "        # read in the annotations\n",
    "        with open(xml, 'r') as ff:\n",
    "            data = ff.read()\n",
    "            ff.close()\n",
    "\n",
    "        # make it into a soup object\n",
    "        bs_data = BeautifulSoup(data,'xml')\n",
    "\n",
    "        # find all the names\n",
    "        temp = bs_data.find_all('name')\n",
    "\n",
    "        # iterate over and replace misc_fish as needed\n",
    "        for ii in temp:\n",
    "            \n",
    "            # check if the 'name' tag needs to be merged\n",
    "            for kk in mergedic:\n",
    "                if ii.text in mergedic[kk]:\n",
    "                    ii.contents[0].replaceWith(kk)\n",
    "\n",
    "            # check if the object needs to be removed\n",
    "            if ii.text in to_del:\n",
    "                ii.parent.decompose()\n",
    "\n",
    "            else:\n",
    "                pass\n",
    "        \n",
    "        # create the specific file and delete it if already exists\n",
    "        out_name = os.path.join(outdir, os.path.basename(xml))\n",
    "        if os.path.exists(out_name):\n",
    "            os.remove(out_name)\n",
    "            \n",
    "        # save it\n",
    "        with open(os.path.join(outdir, os.path.basename(xml)), 'w') as ff:\n",
    "            ff.write(str(bs_data))\n",
    "            ff.close()"
   ]
  },
  {
   "cell_type": "code",
   "execution_count": 2,
   "metadata": {
    "jupyter": {
     "source_hidden": true
    }
   },
   "outputs": [],
   "source": [
    "def unique_labels(bs_xml):\n",
    "    \"\"\"\n",
    "    loop through and make a list of all available labels\n",
    "    :param bs_xmls: path to xml\n",
    "    :return cls: list of unique labels from all images\n",
    "    \"\"\"\n",
    "    xmls = glob.glob(os.path.join(bs_xml,'*.xml'))\n",
    "    \n",
    "    cls = []\n",
    "    for xml in xmls:\n",
    "\n",
    "        # read in the annotations\n",
    "        with open(xml, 'r') as ff:\n",
    "            data = ff.read()\n",
    "            ff.close()\n",
    "\n",
    "        # make it into a soup object\n",
    "        bs_data = BeautifulSoup(data,'xml')\n",
    "\n",
    "        # find all the instances of names\n",
    "        xx = bs_data.find_all('name')\n",
    "\n",
    "        # iterate over and find all the unique names\n",
    "        out = [item.text for item in xx]\n",
    "        out = list(set(out))\n",
    "\n",
    "        # add to the master list if not already there\n",
    "        out = [line for line in out if line not in cls]\n",
    "        cls.extend(out)\n",
    "        \n",
    "    return cls"
   ]
  },
  {
   "cell_type": "markdown",
   "metadata": {},
   "source": [
    "## OP19 Merging\n",
    "What to work on "
   ]
  },
  {
   "cell_type": "code",
   "execution_count": 4,
   "metadata": {
    "jupyter": {
     "source_hidden": true
    }
   },
   "outputs": [],
   "source": [
    "# starboard\n",
    "#parent = 'VOCstarboardMASTER/OP19/Annotations'\n",
    "#outdir = 'VOCstarboardMERGE/OP19/Annotations'\n",
    "\n",
    "# port\n",
    "parent = 'VOCportMASTER/OP19/Annotations'\n",
    "outdir = 'VOCportMERGE/OP19/Annotations'"
   ]
  },
  {
   "cell_type": "markdown",
   "metadata": {
    "jupyter": {
     "source_hidden": true
    }
   },
   "source": [
    "Grab all the xml files for the annotations"
   ]
  },
  {
   "cell_type": "code",
   "execution_count": 5,
   "metadata": {
    "jupyter": {
     "source_hidden": true
    }
   },
   "outputs": [
    {
     "name": "stdout",
     "output_type": "stream",
     "text": [
      "205\n"
     ]
    }
   ],
   "source": [
    "xmls = glob.glob(os.path.join(parent,'*.xml'))\n",
    "print(len(xmls))"
   ]
  },
  {
   "cell_type": "markdown",
   "metadata": {
    "jupyter": {
     "source_hidden": true
    }
   },
   "source": [
    "The rules for merging."
   ]
  },
  {
   "cell_type": "code",
   "execution_count": 6,
   "metadata": {
    "jupyter": {
     "source_hidden": true
    }
   },
   "outputs": [],
   "source": [
    "to_merge = {'misc_fish': ['oreo', 'shark', 'whiptail']}\n",
    "to_del = ['worm','coral', 'shrimp']"
   ]
  },
  {
   "cell_type": "markdown",
   "metadata": {},
   "source": [
    "Now go through and replace names that need replacing. Save output to the new Annotations directory"
   ]
  },
  {
   "cell_type": "code",
   "execution_count": 8,
   "metadata": {
    "jupyter": {
     "source_hidden": true
    }
   },
   "outputs": [
    {
     "name": "stdout",
     "output_type": "stream",
     "text": [
      "['orange_roughy_edge', 'sea_anemone', 'orange_roughy', 'sea_urchin', 'misc_fish', 'eel', 'mollusc', 'sea_star']\n"
     ]
    }
   ],
   "source": [
    "consildate_labels(xmls, outdir, to_merge, to_del)\n",
    "\n",
    "# check the labels\n",
    "zz = unique_labels(outdir)\n",
    "print('total consolidated labels:',len(zz))\n",
    "print(zz)"
   ]
  },
  {
   "cell_type": "markdown",
   "metadata": {},
   "source": [
    "## OP16 Merging\n",
    "What to work on "
   ]
  },
  {
   "cell_type": "code",
   "execution_count": 17,
   "metadata": {
    "collapsed": true,
    "jupyter": {
     "outputs_hidden": true,
     "source_hidden": true
    }
   },
   "outputs": [],
   "source": [
    "# starboard\n",
    "parent = 'VOCstarboardMASTER/OP16/Annotations'\n",
    "outdir = 'VOCstarboardMERGE/OP16/Annotations'\n",
    "\n",
    "# port\n",
    "#parent = 'VOCportMASTER/OP16/Annotations'\n",
    "#outdir = 'VOCportMERGE/OP16/Annotations'"
   ]
  },
  {
   "cell_type": "markdown",
   "metadata": {},
   "source": [
    "Grab all the xml files for the annotations"
   ]
  },
  {
   "cell_type": "code",
   "execution_count": 18,
   "metadata": {
    "collapsed": true,
    "jupyter": {
     "outputs_hidden": true,
     "source_hidden": true
    }
   },
   "outputs": [
    {
     "name": "stdout",
     "output_type": "stream",
     "text": [
      "130\n"
     ]
    }
   ],
   "source": [
    "xmls = glob.glob(os.path.join(parent,'*.xml'))\n",
    "print(len(xmls))"
   ]
  },
  {
   "cell_type": "markdown",
   "metadata": {},
   "source": [
    "The rules for merging."
   ]
  },
  {
   "cell_type": "code",
   "execution_count": 19,
   "metadata": {
    "collapsed": true,
    "jupyter": {
     "outputs_hidden": true,
     "source_hidden": true
    }
   },
   "outputs": [],
   "source": [
    "to_merge = {'misc_fish': ['oreo', 'shark', 'whiptail'], \n",
    "            'orange_roughy': ['orange_roughy_1', 'orange_roughy_2'], \n",
    "            'orange_roughy_edge': ['orange_roughy_2_edge'], \n",
    "            'cnidaria': ['cnidaria_2'], \n",
    "            'sea_anemone': ['anemone']\n",
    "           }\n",
    "\n",
    "to_del = ['worm','coral', 'shrimp','spot_reflect']"
   ]
  },
  {
   "cell_type": "markdown",
   "metadata": {},
   "source": [
    "Now go through and replace names that need replacing. Save output to the new Annotations directory"
   ]
  },
  {
   "cell_type": "code",
   "execution_count": 20,
   "metadata": {
    "collapsed": true,
    "jupyter": {
     "outputs_hidden": true,
     "source_hidden": true
    }
   },
   "outputs": [
    {
     "name": "stdout",
     "output_type": "stream",
     "text": [
      "total consolidated labels: 11\n",
      "['orange_roughy_edge', 'orange_roughy', 'eel', 'misc_fish', 'cnidaria', 'mollusc', 'sea_anemone', 'sea_star', 'brittle_star', 'sea_feather', 'sea_urchin']\n"
     ]
    }
   ],
   "source": [
    "consildate_labels(xmls, outdir, to_merge, to_del)\n",
    "\n",
    "# check the labels\n",
    "zz = unique_labels(outdir)\n",
    "print('total consolidated labels:',len(zz))\n",
    "print(zz)"
   ]
  },
  {
   "cell_type": "code",
   "execution_count": null,
   "metadata": {
    "collapsed": true,
    "jupyter": {
     "outputs_hidden": true,
     "source_hidden": true
    }
   },
   "outputs": [],
   "source": []
  },
  {
   "cell_type": "markdown",
   "metadata": {},
   "source": [
    "## OP12 Merging\n",
    "What to work on "
   ]
  },
  {
   "cell_type": "code",
   "execution_count": 25,
   "metadata": {
    "jupyter": {
     "source_hidden": true
    }
   },
   "outputs": [],
   "source": [
    "# starboard\n",
    "#parent = 'VOCstarboardMASTER/OP12/Annotations'\n",
    "#outdir = 'VOCstarboardMERGE/OP12/Annotations'\n",
    "\n",
    "# port\n",
    "parent = 'VOCportMASTER/OP12/Annotations'\n",
    "outdir = 'VOCportMERGE/OP12/Annotations'"
   ]
  },
  {
   "cell_type": "markdown",
   "metadata": {},
   "source": [
    "Grab all the xml files for the annotations"
   ]
  },
  {
   "cell_type": "code",
   "execution_count": 26,
   "metadata": {
    "jupyter": {
     "source_hidden": true
    }
   },
   "outputs": [
    {
     "name": "stdout",
     "output_type": "stream",
     "text": [
      "125\n"
     ]
    }
   ],
   "source": [
    "xmls = glob.glob(os.path.join(parent,'*.xml'))\n",
    "print(len(xmls))"
   ]
  },
  {
   "cell_type": "markdown",
   "metadata": {},
   "source": [
    "The rules for merging."
   ]
  },
  {
   "cell_type": "code",
   "execution_count": 27,
   "metadata": {
    "jupyter": {
     "source_hidden": true
    }
   },
   "outputs": [],
   "source": [
    "to_merge = {'misc_fish': ['oreo', 'shark', 'whiptail','chimera'], \n",
    "            'orange_roughy': ['orange_roughy_1', 'orange_roughy_2','orange_roughy_3'], \n",
    "            'orange_roughy_edge': ['orange_roughy_1_edge','orange_roughy_2_edge'], \n",
    "            'cnidaria': ['cnidaria_2'], \n",
    "            'sea_anemone': ['anemone']\n",
    "           }\n",
    "\n",
    "to_del = ['worm','coral', 'shrimp','spot_reflect','sea_weed']"
   ]
  },
  {
   "cell_type": "markdown",
   "metadata": {},
   "source": [
    "Now go through and replace names that need replacing. Save output to the new Annotations directory"
   ]
  },
  {
   "cell_type": "code",
   "execution_count": 28,
   "metadata": {
    "jupyter": {
     "source_hidden": true
    }
   },
   "outputs": [
    {
     "name": "stdout",
     "output_type": "stream",
     "text": [
      "total consolidated labels: 10\n",
      "['sea_feather', 'orange_roughy_edge', 'orange_roughy', 'cnidaria', 'sea_star', 'sea_anemone', 'mollusc', 'sea_urchin', 'misc_fish', 'brittle_star']\n"
     ]
    }
   ],
   "source": [
    "consildate_labels(xmls, outdir, to_merge, to_del)\n",
    "\n",
    "# check the labels\n",
    "zz = unique_labels(outdir)\n",
    "print('total consolidated labels:',len(zz))\n",
    "print(zz)"
   ]
  },
  {
   "cell_type": "code",
   "execution_count": null,
   "metadata": {
    "jupyter": {
     "source_hidden": true
    }
   },
   "outputs": [],
   "source": []
  },
  {
   "cell_type": "markdown",
   "metadata": {},
   "source": [
    "## Make necessary symlinks in new directories"
   ]
  },
  {
   "cell_type": "code",
   "execution_count": 45,
   "metadata": {},
   "outputs": [],
   "source": [
    "#parent = 'VOCstarboardMASTER/OP19/JPEGImages'\n",
    "#outdir = 'VOCstarboardMERGE/OP19/JPEGImages'\n",
    "\n",
    "parent = 'VOCportMASTER/OP12/JPEGImages'\n",
    "outdir = 'VOCportMERGE/OP12/JPEGImages'\n",
    "if not os.path.exists(outdir):\n",
    "    os.mkdir(outdir)"
   ]
  },
  {
   "cell_type": "code",
   "execution_count": 46,
   "metadata": {},
   "outputs": [],
   "source": [
    "# list of images in parent dir\n",
    "img_list = glob.glob(os.path.join(parent, '*.jpg'))"
   ]
  },
  {
   "cell_type": "code",
   "execution_count": 47,
   "metadata": {},
   "outputs": [],
   "source": [
    "for img in img_list:\n",
    "    os.symlink(img, os.path.join(outdir, os.path.basename(img)))"
   ]
  },
  {
   "cell_type": "markdown",
   "metadata": {},
   "source": [
    "## Copy the lists"
   ]
  },
  {
   "cell_type": "code",
   "execution_count": 73,
   "metadata": {},
   "outputs": [],
   "source": [
    "parent = 'VOCstarboardMASTER/OP12/ImageSets/Main'\n",
    "outdir = 'VOCstarboardMERGE/OP12/ImageSets/Main'\n",
    "\n",
    "#parent = 'VOCportMASTER/OP19/ImageSets/Main'\n",
    "#outdir = 'VOCportMERGE/OP19/ImageSets/Main'\n",
    "if not os.path.exists(outdir):\n",
    "    os.mkdir(outdir)"
   ]
  },
  {
   "cell_type": "code",
   "execution_count": 74,
   "metadata": {},
   "outputs": [
    {
     "name": "stdout",
     "output_type": "stream",
     "text": [
      "2\n"
     ]
    }
   ],
   "source": [
    "# list of images in parent dir\n",
    "set_list = glob.glob(os.path.join(parent, '*.txt'))\n",
    "print(len(set_list))"
   ]
  },
  {
   "cell_type": "code",
   "execution_count": 75,
   "metadata": {},
   "outputs": [],
   "source": [
    "for slist in set_list:\n",
    "    shutil.copyfile(slist, os.path.join(outdir, os.path.basename(slist)))"
   ]
  },
  {
   "cell_type": "code",
   "execution_count": null,
   "metadata": {},
   "outputs": [],
   "source": []
  }
 ],
 "metadata": {
  "kernelspec": {
   "display_name": "conda_mxnet_p36",
   "language": "python",
   "name": "conda_mxnet_p36"
  },
  "language_info": {
   "codemirror_mode": {
    "name": "ipython",
    "version": 3
   },
   "file_extension": ".py",
   "mimetype": "text/x-python",
   "name": "python",
   "nbconvert_exporter": "python",
   "pygments_lexer": "ipython3",
   "version": "3.6.10"
  }
 },
 "nbformat": 4,
 "nbformat_minor": 4
}
