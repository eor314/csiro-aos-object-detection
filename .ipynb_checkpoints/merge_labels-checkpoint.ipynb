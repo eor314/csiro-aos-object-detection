{
 "cells": [
  {
   "cell_type": "code",
   "execution_count": 1,
   "metadata": {},
   "outputs": [],
   "source": [
    "from bs4 import BeautifulSoup\n",
    "import glob\n",
    "import os"
   ]
  },
  {
   "cell_type": "code",
   "execution_count": 38,
   "metadata": {},
   "outputs": [],
   "source": [
    "def unique_labels(bs_xml):\n",
    "    \"\"\"\n",
    "    loop through and make a list of all available labels\n",
    "    :param bs_xmls: path to xml\n",
    "    :return cls: list of unique labels from all images\n",
    "    \"\"\"\n",
    "    xmls = glob.glob(os.path.join(bs_xml,'*.xml'))\n",
    "    \n",
    "    cls = []\n",
    "    for xml in xmls:\n",
    "\n",
    "        # read in the annotations\n",
    "        with open(xml, 'r') as ff:\n",
    "            data = ff.read()\n",
    "            ff.close()\n",
    "\n",
    "        # make it into a soup object\n",
    "        bs_data = BeautifulSoup(data,'xml')\n",
    "\n",
    "        # find all the instances of names\n",
    "        xx = bs_data.find_all('name')\n",
    "\n",
    "        # iterate over and find all the unique names\n",
    "        out = [item.text for item in xx]\n",
    "        out = list(set(out))\n",
    "\n",
    "        # add to the master list if not already there\n",
    "        out = [line for line in out if line not in cls]\n",
    "        cls.extend(out)\n",
    "        \n",
    "    return cls"
   ]
  },
  {
   "cell_type": "markdown",
   "metadata": {},
   "source": [
    "## OP19 Merging\n",
    "What to work on "
   ]
  },
  {
   "cell_type": "code",
   "execution_count": 2,
   "metadata": {},
   "outputs": [],
   "source": [
    "parent = 'VOCstarboardMASTER/OP19/Annotations'\n",
    "outdir = 'VOCstarboardMERGE/OP19/Annotations'"
   ]
  },
  {
   "cell_type": "markdown",
   "metadata": {},
   "source": [
    "Grab all the xml files for the annotations"
   ]
  },
  {
   "cell_type": "code",
   "execution_count": 3,
   "metadata": {},
   "outputs": [
    {
     "name": "stdout",
     "output_type": "stream",
     "text": [
      "205\n"
     ]
    }
   ],
   "source": [
    "xmls = glob.glob(os.path.join(parent,'*.xml'))\n",
    "print(len(xmls))"
   ]
  },
  {
   "cell_type": "markdown",
   "metadata": {},
   "source": [
    "The rules for merging."
   ]
  },
  {
   "cell_type": "code",
   "execution_count": 44,
   "metadata": {},
   "outputs": [],
   "source": [
    "mfish = ['oreo', 'shark', 'whiptail']\n",
    "to_del = ['coral', 'shrimp']"
   ]
  },
  {
   "cell_type": "markdown",
   "metadata": {},
   "source": [
    "Now go through and replace names that need replacing. Save output to the new Annotations directory"
   ]
  },
  {
   "cell_type": "code",
   "execution_count": 45,
   "metadata": {},
   "outputs": [
    {
     "name": "stdout",
     "output_type": "stream",
     "text": [
      "VOCstarboardMASTER/OP19/Annotations/20190715-014617-237.xml\n",
      "VOCstarboardMASTER/OP19/Annotations/20190715-014919-257.xml\n",
      "VOCstarboardMASTER/OP19/Annotations/20190715-014615-288.xml\n"
     ]
    }
   ],
   "source": [
    "# iterate over all the xml files in the annotations directory\n",
    "for xml in xmls:\n",
    "    \n",
    "    # read in the annotations\n",
    "    with open(xml, 'r') as ff:\n",
    "        data = ff.read()\n",
    "        ff.close()\n",
    "    \n",
    "    # make it into a soup object\n",
    "    bs_data = BeautifulSoup(data,'xml')\n",
    "    \n",
    "    # find all the names\n",
    "    temp = bs_data.find_all('name')\n",
    "    \n",
    "    # iterate over and replace misc_fish as needed\n",
    "    for ii in temp:\n",
    "        # check if the 'name' tag needs to be merged\n",
    "        if ii.text in mfish:\n",
    "            ii.contents[0].replaceWith('misc_fish')\n",
    "            \n",
    "        # check if the object needs to be removed\n",
    "        elif ii.text in to_del:\n",
    "            print(xml)\n",
    "            ii.parent.decompose()\n",
    "            \n",
    "        else:\n",
    "            pass\n",
    "    out_name = os.path.join(outdir, os.path.basename(xml))\n",
    "    if os.path.exists(out_name):\n",
    "        os.remove(out_name)\n",
    "    with open(os.path.join(outdir, os.path.basename(xml)), 'w') as ff:\n",
    "        ff.write(str(bs_data))\n",
    "        ff.close()"
   ]
  },
  {
   "cell_type": "code",
   "execution_count": 46,
   "metadata": {},
   "outputs": [
    {
     "name": "stdout",
     "output_type": "stream",
     "text": [
      "['orange_roughy_edge', 'sea_anemone', 'orange_roughy', 'misc_fish', 'eel', 'sea_star', 'mollusc', 'sea_urchin', 'sea_feather', 'cnidaria']\n"
     ]
    }
   ],
   "source": [
    "zz = unique_labels(outdir)\n",
    "print(zz)"
   ]
  },
  {
   "cell_type": "code",
   "execution_count": 34,
   "metadata": {},
   "outputs": [
    {
     "name": "stdout",
     "output_type": "stream",
     "text": [
      "<?xml version=\"1.0\" encoding=\"utf-8\"?>\n",
      "<annotation>\n",
      "<folder>test_images</folder>\n",
      "<filename>20190715-014617.237.JPG</filename>\n",
      "<path>E:\\Imagery_analysis\\Machine_learning_workshop\\Year_2019\\AOS\\SXO201901\\OP19\\GigE\\Starboard\\Machine_learning\\object_detection\\test_images\\20190715-014617.237.JPG</path>\n",
      "<source>\n",
      "<database>Unknown</database>\n",
      "</source>\n",
      "<size>\n",
      "<width>3296</width>\n",
      "<height>2472</height>\n",
      "<depth>3</depth>\n",
      "</size>\n",
      "<segmented>0</segmented>\n",
      "<object>\n",
      "<name>orange_roughy</name>\n",
      "<pose>Unspecified</pose>\n",
      "<truncated>0</truncated>\n",
      "<difficult>0</difficult>\n",
      "<bndbox>\n",
      "<xmin>659</xmin>\n",
      "<ymin>1892</ymin>\n",
      "<xmax>946</xmax>\n",
      "<ymax>2095</ymax>\n",
      "</bndbox>\n",
      "</object>\n",
      "<object>\n",
      "<name>misc_fish</name>\n",
      "<pose>Unspecified</pose>\n",
      "<truncated>0</truncated>\n",
      "<difficult>0</difficult>\n",
      "<bndbox>\n",
      "<xmin>567</xmin>\n",
      "<ymin>910</ymin>\n",
      "<xmax>615</xmax>\n",
      "<ymax>1025</ymax>\n",
      "</bndbox>\n",
      "</object>\n",
      "<object>\n",
      "<name>misc_fish</name>\n",
      "<pose>Unspecified</pose>\n",
      "<truncated>0</truncated>\n",
      "<difficult>0</difficult>\n",
      "<bndbox>\n",
      "<xmin>2195</xmin>\n",
      "<ymin>818</ymin>\n",
      "<xmax>2336</xmax>\n",
      "<ymax>900</ymax>\n",
      "</bndbox>\n",
      "</object>\n",
      "<object>\n",
      "<name>coral</name>\n",
      "<pose>Unspecified</pose>\n",
      "<truncated>0</truncated>\n",
      "<difficult>0</difficult>\n",
      "<bndbox>\n",
      "<xmin>3046</xmin>\n",
      "<ymin>1656</ymin>\n",
      "<xmax>3164</xmax>\n",
      "<ymax>1846</ymax>\n",
      "</bndbox>\n",
      "</object>\n",
      "</annotation>\n",
      "<?xml version=\"1.0\" encoding=\"utf-8\"?>\n",
      "<annotation>\n",
      " <folder>\n",
      "  test_images\n",
      " </folder>\n",
      " <filename>\n",
      "  20190715-014617.237.JPG\n",
      " </filename>\n",
      " <path>\n",
      "  E:\\Imagery_analysis\\Machine_learning_workshop\\Year_2019\\AOS\\SXO201901\\OP19\\GigE\\Starboard\\Machine_learning\\object_detection\\test_images\\20190715-014617.237.JPG\n",
      " </path>\n",
      " <source>\n",
      "  <database>\n",
      "   Unknown\n",
      "  </database>\n",
      " </source>\n",
      " <size>\n",
      "  <width>\n",
      "   3296\n",
      "  </width>\n",
      "  <height>\n",
      "   2472\n",
      "  </height>\n",
      "  <depth>\n",
      "   3\n",
      "  </depth>\n",
      " </size>\n",
      " <segmented>\n",
      "  0\n",
      " </segmented>\n",
      " <object>\n",
      "  <name>\n",
      "   orange_roughy\n",
      "  </name>\n",
      "  <pose>\n",
      "   Unspecified\n",
      "  </pose>\n",
      "  <truncated>\n",
      "   0\n",
      "  </truncated>\n",
      "  <difficult>\n",
      "   0\n",
      "  </difficult>\n",
      "  <bndbox>\n",
      "   <xmin>\n",
      "    659\n",
      "   </xmin>\n",
      "   <ymin>\n",
      "    1892\n",
      "   </ymin>\n",
      "   <xmax>\n",
      "    946\n",
      "   </xmax>\n",
      "   <ymax>\n",
      "    2095\n",
      "   </ymax>\n",
      "  </bndbox>\n",
      " </object>\n",
      " <object>\n",
      "  <name>\n",
      "   misc_fish\n",
      "  </name>\n",
      "  <pose>\n",
      "   Unspecified\n",
      "  </pose>\n",
      "  <truncated>\n",
      "   0\n",
      "  </truncated>\n",
      "  <difficult>\n",
      "   0\n",
      "  </difficult>\n",
      "  <bndbox>\n",
      "   <xmin>\n",
      "    567\n",
      "   </xmin>\n",
      "   <ymin>\n",
      "    910\n",
      "   </ymin>\n",
      "   <xmax>\n",
      "    615\n",
      "   </xmax>\n",
      "   <ymax>\n",
      "    1025\n",
      "   </ymax>\n",
      "  </bndbox>\n",
      " </object>\n",
      " <object>\n",
      "  <name>\n",
      "   misc_fish\n",
      "  </name>\n",
      "  <pose>\n",
      "   Unspecified\n",
      "  </pose>\n",
      "  <truncated>\n",
      "   0\n",
      "  </truncated>\n",
      "  <difficult>\n",
      "   0\n",
      "  </difficult>\n",
      "  <bndbox>\n",
      "   <xmin>\n",
      "    2195\n",
      "   </xmin>\n",
      "   <ymin>\n",
      "    818\n",
      "   </ymin>\n",
      "   <xmax>\n",
      "    2336\n",
      "   </xmax>\n",
      "   <ymax>\n",
      "    900\n",
      "   </ymax>\n",
      "  </bndbox>\n",
      " </object>\n",
      "</annotation>\n"
     ]
    }
   ],
   "source": [
    "# noodling\n",
    "\n",
    "xml = \"VOCstarboardMASTER/OP19/Annotations/20190715-014617-237.xml\"\n",
    "# read in the annotations\n",
    "with open(xml, 'r') as ff:\n",
    "    data = ff.read()\n",
    "    ff.close()\n",
    "\n",
    "# make it into a soup object\n",
    "bs_data = BeautifulSoup(data,'xml')\n",
    "print(bs_data)\n",
    "\n",
    "temp = bs_data.find_all('name')\n",
    "for ii in temp:\n",
    "    if ii.text in to_del:\n",
    "        ii.parent.decompose()\n",
    "         \n",
    "#print(temp)\n",
    "print(bs_data.prettify())"
   ]
  },
  {
   "cell_type": "code",
   "execution_count": null,
   "metadata": {},
   "outputs": [],
   "source": []
  }
 ],
 "metadata": {
  "kernelspec": {
   "display_name": "conda_mxnet_p36",
   "language": "python",
   "name": "conda_mxnet_p36"
  },
  "language_info": {
   "codemirror_mode": {
    "name": "ipython",
    "version": 3
   },
   "file_extension": ".py",
   "mimetype": "text/x-python",
   "name": "python",
   "nbconvert_exporter": "python",
   "pygments_lexer": "ipython3",
   "version": "3.6.10"
  }
 },
 "nbformat": 4,
 "nbformat_minor": 4
}
